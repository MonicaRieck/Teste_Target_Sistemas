{
  "cells": [
    {
      "cell_type": "markdown",
      "metadata": {
        "id": "view-in-github",
        "colab_type": "text"
      },
      "source": [
        "<a href=\"https://colab.research.google.com/github/MonicaRieck/Teste_Target_Sistemas/blob/main/Teste1FIBONACCI.ipynb\" target=\"_parent\"><img src=\"https://colab.research.google.com/assets/colab-badge.svg\" alt=\"Open In Colab\"/></a>"
      ]
    },
    {
      "cell_type": "markdown",
      "metadata": {
        "id": "CxPjuBEZeCD3"
      },
      "source": [
        "#Teste 1#"
      ]
    },
    {
      "cell_type": "code",
      "execution_count": 7,
      "metadata": {
        "colab": {
          "base_uri": "https://localhost:8080/"
        },
        "id": "XQbkZ4ajXxDG",
        "outputId": "66f656d3-9fbe-4925-e4d1-804796bbf88d"
      },
      "outputs": [
        {
          "output_type": "stream",
          "name": "stdout",
          "text": [
            "~~~~~~~~~~~~~~~~~~~~~~~~~~~~~~\n",
            "Qual número faz parte da sequência de Fibonacci?\n",
            "~~~~~~~~~~~~~~~~~~~~~~~~~~~~~~\n",
            "Informe um número: 5\n",
            "=>Pertence à sequência Fibonacci =)\n"
          ]
        }
      ],
      "source": [
        "print('~'*30)\n",
        "print(\"Qual número faz parte da sequência de Fibonacci?\")\n",
        "print('~'*30)\n",
        "\n",
        "\n",
        "def main():\n",
        "\n",
        "  numero = int(input(\"Informe um número: \"))\n",
        "\n",
        "  if pertenceSerieFibonacci(numero):\n",
        "    print(\"=>Pertence à sequência Fibonacci =)\")\n",
        "  else:\n",
        "    print(\"=>Não pertence à sequência Fibonacci >.<\")\n",
        "\n",
        "def pertenceSerieFibonacci(n):\n",
        "  primeiro = 0\n",
        "  segundo = 1\n",
        "  terceiro = 0\n",
        "     \n",
        "  while terceiro < n:\n",
        "    terceiro = primeiro + segundo\n",
        "    primeiro = segundo\n",
        "    segundo = terceiro\n",
        "            \n",
        "  return terceiro == n\n",
        "   \n",
        "if __name__== \"__main__\":\n",
        "  main()\n"
      ]
    },
    {
      "cell_type": "markdown",
      "metadata": {
        "id": "2vMSVGVpePg9"
      },
      "source": []
    },
    {
      "cell_type": "code",
      "execution_count": null,
      "metadata": {
        "id": "DtnAQbrVeNzf"
      },
      "outputs": [],
      "source": []
    }
  ],
  "metadata": {
    "colab": {
      "toc_visible": true,
      "provenance": [],
      "authorship_tag": "ABX9TyOac6Wa17cEklWwTIDTT6Uk",
      "include_colab_link": true
    },
    "kernelspec": {
      "display_name": "Python 3",
      "name": "python3"
    },
    "language_info": {
      "name": "python"
    }
  },
  "nbformat": 4,
  "nbformat_minor": 0
}