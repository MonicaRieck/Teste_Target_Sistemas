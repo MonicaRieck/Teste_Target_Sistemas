{
  "cells": [
    {
      "cell_type": "markdown",
      "metadata": {
        "id": "view-in-github",
        "colab_type": "text"
      },
      "source": [
        "<a href=\"https://colab.research.google.com/github/MonicaRieck/Teste_Target_Sistemas/blob/main/Teste.ipynb\" target=\"_parent\"><img src=\"https://colab.research.google.com/assets/colab-badge.svg\" alt=\"Open In Colab\"/></a>"
      ]
    },
    {
      "cell_type": "markdown",
      "metadata": {
        "id": "CxPjuBEZeCD3"
      },
      "source": [
        "#Teste 1#"
      ]
    },
    {
      "cell_type": "code",
      "execution_count": null,
      "metadata": {
        "colab": {
          "base_uri": "https://localhost:8080/"
        },
        "id": "XQbkZ4ajXxDG",
        "outputId": "93afa948-eb1a-46bf-e860-c85110fea4ee"
      },
      "outputs": [
        {
          "output_type": "stream",
          "name": "stdout",
          "text": [
            "~~~~~~~~~~~~~~~~~~~~~~~~~~~~~~\n",
            "Qual número faz parte da sequência de Fibonacci?\n",
            "~~~~~~~~~~~~~~~~~~~~~~~~~~~~~~\n"
          ]
        }
      ],
      "source": [
        "print('~'*30)\n",
        "print(\"Qual número faz parte da sequência de Fibonacci?\")\n",
        "print('~'*30)\n",
        "\n",
        "def main():\n",
        "  numero = int(input(\"Informe um número para sabermos: \"))    \n",
        "  if pertenceSerieFibonacci(numero):\n",
        "    print(\"=> Pertence à sequência de Fibonacci! =)\")\n",
        "  else:\n",
        "    print(\"=> Não pertence à sequência de Fibonacci! >.<\")   \n",
        "def pertenceSerieFibonacci(n):\n",
        "  primeiro = 0\n",
        "  segundo = 1\n",
        "  terceiro = 0     \n",
        "  while terceiro < n:\n",
        "    terceiro = primeiro + segundo\n",
        "    primeiro = segundo\n",
        "    segundo = terceiro \n",
        "  return terceiro == n   \n",
        "if __name__== \"__main__\":\n",
        "  main()"
      ]
    },
    {
      "cell_type": "markdown",
      "metadata": {
        "id": "2vMSVGVpePg9"
      },
      "source": []
    },
    {
      "cell_type": "code",
      "execution_count": null,
      "metadata": {
        "id": "DtnAQbrVeNzf"
      },
      "outputs": [],
      "source": []
    }
  ],
  "metadata": {
    "colab": {
      "toc_visible": true,
      "provenance": [],
      "authorship_tag": "ABX9TyNdxDlBz65v2I9ADDF2qSAV",
      "include_colab_link": true
    },
    "kernelspec": {
      "display_name": "Python 3",
      "name": "python3"
    },
    "language_info": {
      "name": "python"
    }
  },
  "nbformat": 4,
  "nbformat_minor": 0
}